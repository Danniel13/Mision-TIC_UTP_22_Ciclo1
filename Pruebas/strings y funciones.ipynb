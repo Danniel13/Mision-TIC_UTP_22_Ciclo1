{
 "cells": [
  {
   "cell_type": "code",
   "execution_count": 1,
   "metadata": {},
   "outputs": [
    {
     "name": "stdout",
     "output_type": "stream",
     "text": [
      "THIS SENTENCE WILL BE TO PRINT IN CAPITAL LETTER \n"
     ]
    }
   ],
   "source": [
    "#Convertir cadena a mayuscula:\n",
    "print(\"This sentence will be to print in capital letter \".upper())"
   ]
  },
  {
   "cell_type": "code",
   "execution_count": 3,
   "metadata": {},
   "outputs": [
    {
     "name": "stdout",
     "output_type": "stream",
     "text": [
      "this sentence will be to print in lowercase letter \n"
     ]
    }
   ],
   "source": [
    "#Convertir cadena a Minuscula:\n",
    "print(\"This sentence will be to print in Lowercase letter \".lower())"
   ]
  },
  {
   "cell_type": "code",
   "execution_count": 4,
   "metadata": {},
   "outputs": [
    {
     "name": "stdout",
     "output_type": "stream",
     "text": [
      "hello there, how are you?\n"
     ]
    }
   ],
   "source": [
    "#Replace one element of string:\n",
    "\n",
    "msg = \"hello#there,#how#are#you?\"\n",
    "print(msg.replace(\"#\", \" \")) #Replace # -> \" \""
   ]
  },
  {
   "cell_type": "markdown",
   "metadata": {},
   "source": [
    "# FUNCIONES:"
   ]
  },
  {
   "cell_type": "code",
   "execution_count": 6,
   "metadata": {},
   "outputs": [
    {
     "name": "stdout",
     "output_type": "stream",
     "text": [
      "A18\n"
     ]
    }
   ],
   "source": [
    "def msg(num, ch):\n",
    "  print(ch+str(num)) #Suma el ch: A con el segundo valor: num que lo transforma en una cadena\n",
    "\n",
    "msg(18, 'A')"
   ]
  },
  {
   "cell_type": "code",
   "execution_count": 11,
   "metadata": {},
   "outputs": [
    {
     "name": "stdout",
     "output_type": "stream",
     "text": [
      "El area del triángulo es:  100\n"
     ]
    }
   ],
   "source": [
    "#AREA DE UN RECTANGULO:\n",
    "\n",
    "def area(x, y):\n",
    "   #your code goes here\n",
    "   \n",
    "   value = print(\"El area del triángulo es: \", x*y)\n",
    "\n",
    "   return (value)\n",
    "\n",
    "w = int(input())\n",
    "h = int(input())\n",
    "\n",
    "\n",
    "\n",
    "#call the function\n",
    "area(w,h)\n"
   ]
  },
  {
   "cell_type": "code",
   "execution_count": 16,
   "metadata": {},
   "outputs": [
    {
     "name": "stdout",
     "output_type": "stream",
     "text": [
      "6\n"
     ]
    }
   ],
   "source": [
    "#FOR PARA SABER LA SUMA CONSECUTIVA DE UN NUMERO TOMADO DESDE FUNCION \n",
    "def sum(x):\n",
    "    res = 0\n",
    "    for i in range(x):\n",
    "        res+=i\n",
    "    return res\n",
    "    \n",
    "print(sum(4))\n",
    "#RANGO 0 - 4\n",
    "#primer ciclo res = 0 and x= 0 + 0 = 0  \n",
    "#segudno cuclo res = 0  and x=1 0 + 1 = res=1.  \n",
    "#tercer ciclo res = 1 and x=2  1 + 2 = res= 3   \n",
    "#cuarto ciclo res = 3 and x=3  3 + 3 = res = 6\n",
    "\n"
   ]
  },
  {
   "cell_type": "code",
   "execution_count": 18,
   "metadata": {},
   "outputs": [
    {
     "name": "stdout",
     "output_type": "stream",
     "text": [
      "0\n"
     ]
    }
   ],
   "source": [
    "def print_nums(x):\n",
    "  for i in range(x):\n",
    "    print(i)\n",
    "    return\n",
    "print_nums(10)"
   ]
  }
 ],
 "metadata": {
  "interpreter": {
   "hash": "ffa1133c21e95c04d090f84f5642658ed9c54c152275f940673cc7d4c15af7c2"
  },
  "kernelspec": {
   "display_name": "Python 3.10.2 64-bit",
   "language": "python",
   "name": "python3"
  },
  "language_info": {
   "codemirror_mode": {
    "name": "ipython",
    "version": 3
   },
   "file_extension": ".py",
   "mimetype": "text/x-python",
   "name": "python",
   "nbconvert_exporter": "python",
   "pygments_lexer": "ipython3",
   "version": "3.10.2"
  },
  "orig_nbformat": 4
 },
 "nbformat": 4,
 "nbformat_minor": 2
}
